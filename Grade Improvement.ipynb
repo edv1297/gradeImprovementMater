{
 "cells": [
  {
   "cell_type": "code",
   "execution_count": 21,
   "metadata": {},
   "outputs": [
    {
     "name": "stdout",
     "output_type": "stream",
     "text": [
      "71602:\n",
      "60122:\n",
      "70142:\n"
     ]
    }
   ],
   "source": [
    "import csv\n",
    "\n",
    "        \n",
    "    \n",
    "def make_excel(data_list,school_num):\n",
    "    with open(str(school_num)+'.csv', 'w', newline='') as csvfile:\n",
    "        writer = csv.writer(csvfile, dialect='excel')\n",
    "\n",
    "        for i in data_list:\n",
    "            writer.writerow(i)\n",
    "            \n",
    "    \n",
    "def calc_difference(first,second):\n",
    "    difference = 0\n",
    "\n",
    "    if first == \"\" and second == \"\":\n",
    "        return difference\n",
    "    elif first == \" \":\n",
    "        first = second\n",
    "        return difference\n",
    "\n",
    "    elif second == \" \":\n",
    "        second = first\n",
    "        return difference\n",
    "    else:\n",
    "        \n",
    "        if(first == \"F\"):\n",
    "            first = \"E\"\n",
    "        if(second == \"F\" ):\n",
    "            second =\"E\"\n",
    "        difference = (ord(first) - ord(second))\n",
    "\n",
    "    return difference\n",
    "\n",
    "\n",
    "def get_firstID(filepath):\n",
    "    with open(filepath) as file:\n",
    "        reader = csv.reader(file)\n",
    "        reader.__next__()\n",
    "        num = reader.__next__()[0]\n",
    "    return num\n",
    "\n",
    "def calculate_improvement(filepath,schoolnum):\n",
    "\n",
    "    print(str(schoolnum)+ \":\")\n",
    "    l = []\n",
    "    with open(filepath) as file:\n",
    "        reader = csv.reader(file)\n",
    "        reader.__next__() #Skip first row\n",
    "        points = 0\n",
    "        IDnum = 0\n",
    "\n",
    "        IDnum = get_firstID(filepath)\n",
    "\n",
    "        for row in reader:\n",
    "\n",
    "            firstNineWeeks = row[5]\n",
    "            secondNineWeeks = row[6]\n",
    "            checkID = row[0]\n",
    "            name = row[3] + \" \"+ row[4]\n",
    "            grade = row[2]\n",
    "\n",
    "            if (IDnum != checkID):\n",
    "\n",
    "                l.append([IDnum,grade, name, points])\n",
    "                points = 0\n",
    "                IDnum = checkID\n",
    "            \n",
    "            points += calc_difference(firstNineWeeks, secondNineWeeks)\n",
    "            \n",
    "    make_excel(l,schoolnum)\n",
    "\n",
    "            \n",
    "   \n",
    "\n",
    "            \n",
    "            \n",
    "\n",
    "calculate_improvement('./data/StudentData_7160.csv' , 71602)\n",
    "calculate_improvement('./data/StudentData_6012.csv',60122)\n",
    "calculate_improvement('./data/StudentData_7014.csv',70142)"
   ]
  },
  {
   "cell_type": "code",
   "execution_count": null,
   "metadata": {},
   "outputs": [],
   "source": []
  },
  {
   "cell_type": "code",
   "execution_count": null,
   "metadata": {},
   "outputs": [],
   "source": []
  }
 ],
 "metadata": {
  "kernelspec": {
   "display_name": "Python 3",
   "language": "python",
   "name": "python3"
  },
  "language_info": {
   "codemirror_mode": {
    "name": "ipython",
    "version": 3
   },
   "file_extension": ".py",
   "mimetype": "text/x-python",
   "name": "python",
   "nbconvert_exporter": "python",
   "pygments_lexer": "ipython3",
   "version": "3.7.1"
  }
 },
 "nbformat": 4,
 "nbformat_minor": 2
}
