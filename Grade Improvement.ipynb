{
 "cells": [
  {
   "cell_type": "code",
   "execution_count": 50,
   "metadata": {},
   "outputs": [
    {
     "name": "stdout",
     "output_type": "stream",
     "text": [
      "6012:\n"
     ]
    },
    {
     "ename": "TypeError",
     "evalue": "list indices must be integers or slices, not tuple",
     "output_type": "error",
     "traceback": [
      "\u001b[0;31m---------------------------------------------------------------------------\u001b[0m",
      "\u001b[0;31mTypeError\u001b[0m                                 Traceback (most recent call last)",
      "\u001b[0;32m<ipython-input-50-4e11a311cda7>\u001b[0m in \u001b[0;36m<module>\u001b[0;34m\u001b[0m\n\u001b[1;32m     75\u001b[0m \u001b[0;34m\u001b[0m\u001b[0m\n\u001b[1;32m     76\u001b[0m \u001b[0;34m\u001b[0m\u001b[0m\n\u001b[0;32m---> 77\u001b[0;31m \u001b[0mcalculate_improvement\u001b[0m\u001b[0;34m(\u001b[0m\u001b[0;34m'./data/StudentData7160_6012.csv'\u001b[0m\u001b[0;34m,\u001b[0m \u001b[0;36m6012\u001b[0m\u001b[0;34m)\u001b[0m\u001b[0;34m\u001b[0m\u001b[0;34m\u001b[0m\u001b[0m\n\u001b[0m\u001b[1;32m     78\u001b[0m \u001b[0mcalculate_improvement\u001b[0m\u001b[0;34m(\u001b[0m\u001b[0;34m'./data/StudentData7160_7014.csv'\u001b[0m\u001b[0;34m,\u001b[0m \u001b[0;36m7014\u001b[0m\u001b[0;34m)\u001b[0m\u001b[0;34m\u001b[0m\u001b[0;34m\u001b[0m\u001b[0m\n\u001b[1;32m     79\u001b[0m \u001b[0mcalculate_improvement\u001b[0m\u001b[0;34m(\u001b[0m\u001b[0;34m'./data/StudentData7160_7160.csv'\u001b[0m\u001b[0;34m,\u001b[0m\u001b[0;36m7160\u001b[0m\u001b[0;34m)\u001b[0m\u001b[0;34m\u001b[0m\u001b[0;34m\u001b[0m\u001b[0m\n",
      "\u001b[0;32m<ipython-input-50-4e11a311cda7>\u001b[0m in \u001b[0;36mcalculate_improvement\u001b[0;34m(filepath, schoolnum)\u001b[0m\n\u001b[1;32m     67\u001b[0m             \u001b[0mpoints\u001b[0m \u001b[0;34m+=\u001b[0m \u001b[0mcalc_difference\u001b[0m\u001b[0;34m(\u001b[0m\u001b[0mfirstNineWeeks\u001b[0m\u001b[0;34m,\u001b[0m \u001b[0msecondNineWeeks\u001b[0m\u001b[0;34m)\u001b[0m\u001b[0;34m\u001b[0m\u001b[0;34m\u001b[0m\u001b[0m\n\u001b[1;32m     68\u001b[0m \u001b[0;34m\u001b[0m\u001b[0m\n\u001b[0;32m---> 69\u001b[0;31m     \u001b[0mmake_excel\u001b[0m\u001b[0;34m(\u001b[0m\u001b[0ml\u001b[0m\u001b[0;34m,\u001b[0m\u001b[0mschoolnum\u001b[0m\u001b[0;34m)\u001b[0m\u001b[0;34m\u001b[0m\u001b[0;34m\u001b[0m\u001b[0m\n\u001b[0m\u001b[1;32m     70\u001b[0m \u001b[0;34m\u001b[0m\u001b[0m\n\u001b[1;32m     71\u001b[0m \u001b[0;34m\u001b[0m\u001b[0m\n",
      "\u001b[0;32m<ipython-input-50-4e11a311cda7>\u001b[0m in \u001b[0;36mmake_excel\u001b[0;34m(data_list, school_num)\u001b[0m\n\u001b[1;32m      8\u001b[0m \u001b[0;34m\u001b[0m\u001b[0m\n\u001b[1;32m      9\u001b[0m         \u001b[0;32mfor\u001b[0m \u001b[0mi\u001b[0m \u001b[0;32min\u001b[0m \u001b[0mdata_list\u001b[0m\u001b[0;34m:\u001b[0m\u001b[0;34m\u001b[0m\u001b[0;34m\u001b[0m\u001b[0m\n\u001b[0;32m---> 10\u001b[0;31m             \u001b[0mwriter\u001b[0m\u001b[0;34m.\u001b[0m\u001b[0mwriterow\u001b[0m\u001b[0;34m(\u001b[0m\u001b[0;34m[\u001b[0m\u001b[0mdata_list\u001b[0m\u001b[0;34m[\u001b[0m\u001b[0mi\u001b[0m\u001b[0;34m]\u001b[0m\u001b[0;34m]\u001b[0m \u001b[0;34m)\u001b[0m\u001b[0;34m\u001b[0m\u001b[0;34m\u001b[0m\u001b[0m\n\u001b[0m\u001b[1;32m     11\u001b[0m \u001b[0;34m\u001b[0m\u001b[0m\n\u001b[1;32m     12\u001b[0m \u001b[0;34m\u001b[0m\u001b[0m\n",
      "\u001b[0;31mTypeError\u001b[0m: list indices must be integers or slices, not tuple"
     ]
    }
   ],
   "source": [
    "import csv\n",
    "\n",
    "        \n",
    "    \n",
    "def make_excel(data_list,school_num):\n",
    "    with open(str(school_num)+'.csv', 'w', newline='') as csvfile:\n",
    "        writer = csv.writer(csvfile, dialect='excel')\n",
    "\n",
    "        for i in data_list:\n",
    "            writer.writerow(data_list[i][0] )\n",
    "            \n",
    "    \n",
    "def calc_difference(first,second):\n",
    "    difference = 0\n",
    "\n",
    "    if first == \"\" and second == \"\":\n",
    "        return difference\n",
    "    elif first == \" \":\n",
    "        first = second\n",
    "        return difference\n",
    "\n",
    "    elif second == \" \":\n",
    "        second = first\n",
    "        return difference\n",
    "    else:\n",
    "        \n",
    "        if(first == \"F\"):\n",
    "            first = \"E\"\n",
    "        if(second == \"F\" ):\n",
    "            second =\"E\"\n",
    "        difference = (ord(first) - ord(second))\n",
    "\n",
    "    return difference\n",
    "\n",
    "\n",
    "def get_firstID(filepath):\n",
    "    with open(filepath) as file:\n",
    "        reader = csv.reader(file)\n",
    "        reader.__next__()\n",
    "        num = reader.__next__()[0]\n",
    "    return num\n",
    "\n",
    "def calculate_improvement(filepath,schoolnum):\n",
    "\n",
    "    print(str(schoolnum)+ \":\")\n",
    "    l = []\n",
    "    with open(filepath) as file:\n",
    "        reader = csv.reader(file)\n",
    "        reader.__next__() #Skip first row\n",
    "        points = 0\n",
    "        IDnum = 0\n",
    "\n",
    "        IDnum = get_firstID(filepath)\n",
    "\n",
    "        for row in reader:\n",
    "\n",
    "            firstNineWeeks = row[5]\n",
    "            secondNineWeeks = row[6]\n",
    "            checkID = row[0]\n",
    "\n",
    "            if (IDnum != checkID):\n",
    "\n",
    "                l.append((IDnum,points))\n",
    "                points = 0\n",
    "                IDnum = checkID\n",
    "            \n",
    "            points += calc_difference(firstNineWeeks, secondNineWeeks)\n",
    "            \n",
    "    make_excel(l,schoolnum)\n",
    "\n",
    "            \n",
    "   \n",
    "\n",
    "            \n",
    "            \n",
    "\n",
    "calculate_improvement('./data/StudentData7160_6012.csv', 6012)\n",
    "calculate_improvement('./data/StudentData7160_7014.csv', 7014)\n",
    "calculate_improvement('./data/StudentData7160_7160.csv',7160)"
   ]
  },
  {
   "cell_type": "code",
   "execution_count": null,
   "metadata": {},
   "outputs": [],
   "source": []
  }
 ],
 "metadata": {
  "kernelspec": {
   "display_name": "Python 3",
   "language": "python",
   "name": "python3"
  },
  "language_info": {
   "codemirror_mode": {
    "name": "ipython",
    "version": 3
   },
   "file_extension": ".py",
   "mimetype": "text/x-python",
   "name": "python",
   "nbconvert_exporter": "python",
   "pygments_lexer": "ipython3",
   "version": "3.7.1"
  }
 },
 "nbformat": 4,
 "nbformat_minor": 2
}
