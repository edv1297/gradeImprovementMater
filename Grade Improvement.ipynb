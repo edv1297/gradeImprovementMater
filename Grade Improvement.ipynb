{
 "cells": [
  {
   "cell_type": "markdown",
   "metadata": {},
   "source": [
    "# Mater Academy: Lion Roar\n",
    "Created by: Eddy Varela"
   ]
  },
  {
   "cell_type": "markdown",
   "metadata": {},
   "source": [
    "### GOAL: Report students who improve their grades. Reward students who improve by at least 3 points. Program also shows students who have improved  over three quarters (i.e. 1st to 2nd, and 2nd to 3rd)"
   ]
  },
  {
   "cell_type": "markdown",
   "metadata": {},
   "source": [
    "### Cleaning phase\n",
    "- Convert data from excel to CSV\n",
    "- Remove students that are only present for 1 quarter"
   ]
  },
  {
   "cell_type": "code",
   "execution_count": 3,
   "metadata": {},
   "outputs": [],
   "source": [
    "# Dependencies\n",
    "import csv\n",
    "import pandas as pd\n",
    "\n",
    "def data_to_csv(data_file):\n",
    "    path = data_file[0:len(data_file)-4] + \"csv\"\n",
    "    data = pd.read_excel(data_file)\n",
    "    data.to_csv(path, index = False)\n",
    "    return path"
   ]
  },
  {
   "cell_type": "markdown",
   "metadata": {},
   "source": [
    "### Analysis\n",
    "\n",
    "If a student's letter grade changes by n letters award them n points. If the change is positive, the points are positive, if the change is negative award them -n points. Sum up total points per student per quarter and return the number of points all students have earned."
   ]
  },
  {
   "cell_type": "code",
   "execution_count": 26,
   "metadata": {},
   "outputs": [],
   "source": [
    "# Calculate the points in calculate improvement method\n",
    "def calc_difference(first,second):\n",
    "    difference = 0\n",
    "    if first == \"\" and second == \"\":\n",
    "        return difference\n",
    "    elif first == \" \":\n",
    "        first = second\n",
    "        return difference\n",
    "\n",
    "    elif second == \" \":\n",
    "        second = first\n",
    "        return difference\n",
    "    else:\n",
    "        \n",
    "        if(first == \"F\"):\n",
    "            first = \"E\"\n",
    "        if(second == \"F\" ):\n",
    "            second =\"E\"\n",
    "        difference = (ord(first) - ord(second))\n",
    "\n",
    "    return difference\n",
    "\n",
    "\n",
    "# Used to start off algorithm in calculate improvement\n",
    "def get_firstID(filepath):\n",
    "    with open(filepath) as file:\n",
    "        reader = csv.reader(file)\n",
    "        reader.__next__()\n",
    "        num = reader.__next__()[1] # represents id column\n",
    "    return num\n",
    "\n",
    "# Making csv out of analyzed data from calculate improvement\n",
    "def make_excel(data_list,output):\n",
    "    with open(str(output), 'w', newline='') as csvfile:\n",
    "        writer = csv.writer(csvfile, dialect='excel')\n",
    "\n",
    "        for i in data_list:\n",
    "            writer.writerow(i)\n",
    "\n",
    "# PRE: Given a filepath, and an output filename\n",
    "# POST: Return the list of students with their improvement scores.\n",
    "# ALGO SKETCH: For each row, compare first and second quarter scores\n",
    "# if the first quarter letter is earlier in the alphabet then the second quarter, return a negative score\n",
    "# conversely, if the first quarter letter is later in the alphabet then the second, return a positive score\n",
    "# if there's no change then return 0.\n",
    "def calculate_improvement(filepath):\n",
    "    analysis = []\n",
    "#     filepath = data_to_csv(filepath)\n",
    "    \n",
    "    \n",
    "    first_nine_weeks = 5\n",
    "    second_nine_weeks = first_nine_weeks+1\n",
    "    \n",
    "    first_name_col = 3\n",
    "    last_name_col = 2\n",
    "    grade_col = 0\n",
    "    \n",
    "    id_col = 1\n",
    "    \n",
    "    with open(filepath) as file:\n",
    "        reader = csv.reader(file)\n",
    "        reader.__next__() #Skip first row\n",
    "        points = 0\n",
    "        IDnum = 0\n",
    "        pre= []\n",
    "        IDnum = get_firstID(filepath) # get the first ID to start off the algo\n",
    "\n",
    "        for row in reader:\n",
    "            \n",
    "            firstNineWeeks = row[first_nine_weeks] \n",
    "            secondNineWeeks = row[second_nine_weeks]\n",
    "            checkID = row[id_col]\n",
    "            name = row[first_name_col] + \" \"+ row[last_name_col] # indices of first and last name\n",
    "            grade = row[grade_col]\n",
    "\n",
    "            if (IDnum != checkID): # when we reach a new ID Num, add current information to the output file and reset info\n",
    "                analysis.append([pre[id_col],pre[grade_col], pre[first_name_col]+ \" \" +pre[last_name_col] , points])\n",
    "                points = 0\n",
    "                IDnum = checkID\n",
    "            \n",
    "            points += calc_difference(firstNineWeeks, secondNineWeeks)\n",
    "            pre = row\n",
    "            \n",
    "    modifier_index = filepath.rfind('.csv')\n",
    "    make_excel(analysis,filepath[0:modifier_index] + \"-analyzed.csv\")\n"
   ]
  },
  {
   "cell_type": "markdown",
   "metadata": {},
   "source": [
    "Here we are going to look at students who improve quarter over quarter"
   ]
  },
  {
   "cell_type": "code",
   "execution_count": 27,
   "metadata": {},
   "outputs": [],
   "source": [
    "def continuous_improvement(q1_csv, q2_csv, output):\n",
    "    calculate_improvement(q1_csv, output)\n",
    "    calculate_improvement(q2_csv, output+\"2\")\n",
    "    clean_files(q1_csv, q2_csv, \"./\"+output+\".csv\")\n",
    "    \n",
    "    \n",
    "def clean_files(f1, f2, out):\n",
    "    df_1 = pd.read_csv(f1, names = [\"ID\", \"Grade\", \"Name\", \"Points\"])\n",
    "    df_2 = pd.read_csv(f2, names = [\"ID\", \"Grade\", \"Name\", \"Points\"])\n",
    "    \n",
    "    df_1 = df_1.merge(df_2, left_on = \"ID\", right_on=\"ID\")\n",
    "    df_1 = df_1.drop(df_1.columns[4:6], axis=1)\n",
    "\n",
    "    print(df_1)\n",
    "    \n",
    "    r_df = pd.DataFrame()\n",
    "    for ind in df_1.index:\n",
    "        if (df_1[\"Points_x\"][ind]>0 and df_1[\"Points_y\"][ind]>0):\n",
    "            r_df = r_df.append(df_1.iloc[ind])\n",
    "    \n",
    "    \n",
    "    r_df.set_index(\"ID\").to_csv(out)\n"
   ]
  },
  {
   "cell_type": "raw",
   "metadata": {},
   "source": []
  },
  {
   "cell_type": "code",
   "execution_count": 29,
   "metadata": {},
   "outputs": [],
   "source": [
    "# data_to_csv('./data/7160.xlsx')\n",
    "\n",
    "calculate_improvement('./data-2020/7160.csv')\n",
    "calculate_improvement('./data-2020/7014.csv')\n",
    "calculate_improvement('./data-2020/6012.csv')\n",
    "# clean_files(output)\n",
    "\n",
    "# calculate_improvement\n",
    "# continuous_improvement('./data/7160.csv','./data/6012_q2-q3.csv', \"6012_improve\")\n",
    "# continuous_improvement('./7014_q1.csv','./7014_q2-q3.csv', \"7014_improve\")\n",
    "\n",
    "# continuous_improvement('./data/7014_1.csv', './data/7014.csv', \"7014_continuous_improvement\")\n",
    "# continuous_improvement('./data/6012_1.csv', './data/6012.csv', \"6012_continuous_improvement\")"
   ]
  },
  {
   "cell_type": "code",
   "execution_count": null,
   "metadata": {},
   "outputs": [],
   "source": []
  },
  {
   "cell_type": "code",
   "execution_count": null,
   "metadata": {},
   "outputs": [],
   "source": []
  }
 ],
 "metadata": {
  "kernelspec": {
   "display_name": "Python 3",
   "language": "python",
   "name": "python3"
  },
  "language_info": {
   "codemirror_mode": {
    "name": "ipython",
    "version": 3
   },
   "file_extension": ".py",
   "mimetype": "text/x-python",
   "name": "python",
   "nbconvert_exporter": "python",
   "pygments_lexer": "ipython3",
   "version": "3.6.9"
  }
 },
 "nbformat": 4,
 "nbformat_minor": 2
}
